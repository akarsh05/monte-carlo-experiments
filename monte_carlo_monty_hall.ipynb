{
 "cells": [
  {
   "cell_type": "code",
   "execution_count": null,
   "metadata": {},
   "outputs": [],
   "source": [
    "# Calculating probabilites is fun, but sometimes the solution may not be obvious, plus it is always sensible\n",
    "# to verify our solutions by running experiments.\n",
    "# Monte Carlo simlations are a great way to repeatedly and randomly run experiments and\n",
    "# predict the probabilities of different outcomes. \n",
    "\n",
    "# Monty Hall Problem in a nutshell - \n",
    "#There are 3 doors, with one door having a car behind it, while the other 2 doors have a goat behind them.\n",
    "# So there is 1 in 3 chance of winning the car.\n",
    "# To win the car, the player picks a door, say 1.\n",
    "# The game host then opens one of the other doors, say 3, to reveal a goat and\n",
    "# offers to let the player switch from door 1 to door 2.\n",
    "\n",
    "# Since a door has been opened, the player has 2 choices left. Does it make sense to switch?\n",
    "# Aren't the odds to win a prize 50-50 now?\n",
    "# Why do people say the chances when we swtich doors are 2 in 3?\n",
    "# What does 'probability is locked' when we make the choice even mean?\n",
    "\n",
    "# More information in the last cell"
   ]
  },
  {
   "cell_type": "code",
   "execution_count": 1,
   "metadata": {},
   "outputs": [],
   "source": [
    "import matplotlib.pyplot as plt\n",
    "import random\n",
    "import pandas as pd\n",
    "import seaborn as sns"
   ]
  },
  {
   "cell_type": "code",
   "execution_count": 2,
   "metadata": {},
   "outputs": [],
   "source": [
    "# define a function which calculates if sticking with the current door wins or if swithching the door wins.\n",
    "\n",
    "def choose_door():\n",
    "    \n",
    "    #3 doors: 1,2 and 3\n",
    "    doors = [1,2,3]\n",
    "    \n",
    "    # randomly place a prize behind a door\n",
    "    door_prize = random.choice(doors)\n",
    "    \n",
    "    # a door which a contestant selects\n",
    "    door_select = random.choice(doors)\n",
    "    \n",
    "    # the host opens a door, which cannot be the door with the prize and the door which the contestant selected\n",
    "    # to get the list of doors the host can open, remove the door with the prize and the contestant's door from\n",
    "    # the original doors list\n",
    "    doors_rem = doors.copy()\n",
    "    doors_rem.remove(door_prize)\n",
    "    # a try-except to avoid errors, in case the contestant's door is the same as the prize door, so has already been removed\n",
    "    try:\n",
    "        doors_rem.remove(door_select)\n",
    "    except ValueError:\n",
    "        pass\n",
    "    \n",
    "    # the door the host opens out of the remaining doors caluclated above\n",
    "    door_open = random.choice(doors_rem)\n",
    "    \n",
    "    # if the contestant sticks with the door\n",
    "    door_same = door_select\n",
    "    \n",
    "    # if the contestant switches his door\n",
    "    door_switch = doors.copy()\n",
    "    door_switch.remove(door_open)\n",
    "    door_switch.remove(door_select)\n",
    "    \n",
    "    if door_same == door_prize:\n",
    "        result = 'no_switch_wins'\n",
    "    else:\n",
    "        result = 'switch_wins'\n",
    "    return result"
   ]
  },
  {
   "cell_type": "code",
   "execution_count": 3,
   "metadata": {},
   "outputs": [],
   "source": [
    "# Number of times to run the simulation\n",
    "num_simulations = 1000"
   ]
  },
  {
   "cell_type": "code",
   "execution_count": 4,
   "metadata": {},
   "outputs": [],
   "source": [
    "outcomes = []\n",
    "for i in range(num_simulations):\n",
    "    outcomes.append(choose_door())"
   ]
  },
  {
   "cell_type": "code",
   "execution_count": 5,
   "metadata": {},
   "outputs": [],
   "source": [
    "# import collections\n",
    "# counter=collections.Counter(outcome)\n",
    "# print(counter)\n",
    "# print(type(counter))"
   ]
  },
  {
   "cell_type": "code",
   "execution_count": 7,
   "metadata": {},
   "outputs": [
    {
     "data": {
      "text/html": [
       "<div>\n",
       "<style scoped>\n",
       "    .dataframe tbody tr th:only-of-type {\n",
       "        vertical-align: middle;\n",
       "    }\n",
       "\n",
       "    .dataframe tbody tr th {\n",
       "        vertical-align: top;\n",
       "    }\n",
       "\n",
       "    .dataframe thead th {\n",
       "        text-align: right;\n",
       "    }\n",
       "</style>\n",
       "<table border=\"1\" class=\"dataframe\">\n",
       "  <thead>\n",
       "    <tr style=\"text-align: right;\">\n",
       "      <th></th>\n",
       "      <th>result</th>\n",
       "    </tr>\n",
       "  </thead>\n",
       "  <tbody>\n",
       "    <tr>\n",
       "      <th>0</th>\n",
       "      <td>switch_wins</td>\n",
       "    </tr>\n",
       "    <tr>\n",
       "      <th>1</th>\n",
       "      <td>switch_wins</td>\n",
       "    </tr>\n",
       "    <tr>\n",
       "      <th>2</th>\n",
       "      <td>no_switch_wins</td>\n",
       "    </tr>\n",
       "    <tr>\n",
       "      <th>3</th>\n",
       "      <td>no_switch_wins</td>\n",
       "    </tr>\n",
       "    <tr>\n",
       "      <th>4</th>\n",
       "      <td>no_switch_wins</td>\n",
       "    </tr>\n",
       "    <tr>\n",
       "      <th>...</th>\n",
       "      <td>...</td>\n",
       "    </tr>\n",
       "    <tr>\n",
       "      <th>995</th>\n",
       "      <td>switch_wins</td>\n",
       "    </tr>\n",
       "    <tr>\n",
       "      <th>996</th>\n",
       "      <td>switch_wins</td>\n",
       "    </tr>\n",
       "    <tr>\n",
       "      <th>997</th>\n",
       "      <td>switch_wins</td>\n",
       "    </tr>\n",
       "    <tr>\n",
       "      <th>998</th>\n",
       "      <td>switch_wins</td>\n",
       "    </tr>\n",
       "    <tr>\n",
       "      <th>999</th>\n",
       "      <td>switch_wins</td>\n",
       "    </tr>\n",
       "  </tbody>\n",
       "</table>\n",
       "<p>1000 rows × 1 columns</p>\n",
       "</div>"
      ],
      "text/plain": [
       "             result\n",
       "0       switch_wins\n",
       "1       switch_wins\n",
       "2    no_switch_wins\n",
       "3    no_switch_wins\n",
       "4    no_switch_wins\n",
       "..              ...\n",
       "995     switch_wins\n",
       "996     switch_wins\n",
       "997     switch_wins\n",
       "998     switch_wins\n",
       "999     switch_wins\n",
       "\n",
       "[1000 rows x 1 columns]"
      ]
     },
     "execution_count": 7,
     "metadata": {},
     "output_type": "execute_result"
    }
   ],
   "source": [
    "outcomes_df = pd.DataFrame.from_dict(outcomes)\n",
    "outcomes_df.columns = [\"result\"]\n",
    "outcomes_df"
   ]
  },
  {
   "cell_type": "code",
   "execution_count": 8,
   "metadata": {},
   "outputs": [
    {
     "data": {
      "text/plain": [
       "switch_wins       667\n",
       "no_switch_wins    333\n",
       "Name: result, dtype: int64"
      ]
     },
     "execution_count": 8,
     "metadata": {},
     "output_type": "execute_result"
    }
   ],
   "source": [
    "outcomes_df.result.value_counts()"
   ]
  },
  {
   "cell_type": "code",
   "execution_count": 9,
   "metadata": {},
   "outputs": [
    {
     "data": {
      "text/html": [
       "<div>\n",
       "<style scoped>\n",
       "    .dataframe tbody tr th:only-of-type {\n",
       "        vertical-align: middle;\n",
       "    }\n",
       "\n",
       "    .dataframe tbody tr th {\n",
       "        vertical-align: top;\n",
       "    }\n",
       "\n",
       "    .dataframe thead th {\n",
       "        text-align: right;\n",
       "    }\n",
       "</style>\n",
       "<table border=\"1\" class=\"dataframe\">\n",
       "  <thead>\n",
       "    <tr style=\"text-align: right;\">\n",
       "      <th></th>\n",
       "      <th>result</th>\n",
       "      <th>switch_wins</th>\n",
       "      <th>cum_sum</th>\n",
       "      <th>win_perc</th>\n",
       "    </tr>\n",
       "  </thead>\n",
       "  <tbody>\n",
       "    <tr>\n",
       "      <th>0</th>\n",
       "      <td>switch_wins</td>\n",
       "      <td>1</td>\n",
       "      <td>1</td>\n",
       "      <td>100.000000</td>\n",
       "    </tr>\n",
       "    <tr>\n",
       "      <th>1</th>\n",
       "      <td>switch_wins</td>\n",
       "      <td>1</td>\n",
       "      <td>2</td>\n",
       "      <td>100.000000</td>\n",
       "    </tr>\n",
       "    <tr>\n",
       "      <th>2</th>\n",
       "      <td>no_switch_wins</td>\n",
       "      <td>0</td>\n",
       "      <td>2</td>\n",
       "      <td>66.666667</td>\n",
       "    </tr>\n",
       "    <tr>\n",
       "      <th>3</th>\n",
       "      <td>no_switch_wins</td>\n",
       "      <td>0</td>\n",
       "      <td>2</td>\n",
       "      <td>50.000000</td>\n",
       "    </tr>\n",
       "    <tr>\n",
       "      <th>4</th>\n",
       "      <td>no_switch_wins</td>\n",
       "      <td>0</td>\n",
       "      <td>2</td>\n",
       "      <td>40.000000</td>\n",
       "    </tr>\n",
       "    <tr>\n",
       "      <th>...</th>\n",
       "      <td>...</td>\n",
       "      <td>...</td>\n",
       "      <td>...</td>\n",
       "      <td>...</td>\n",
       "    </tr>\n",
       "    <tr>\n",
       "      <th>995</th>\n",
       "      <td>switch_wins</td>\n",
       "      <td>1</td>\n",
       "      <td>663</td>\n",
       "      <td>66.566265</td>\n",
       "    </tr>\n",
       "    <tr>\n",
       "      <th>996</th>\n",
       "      <td>switch_wins</td>\n",
       "      <td>1</td>\n",
       "      <td>664</td>\n",
       "      <td>66.599799</td>\n",
       "    </tr>\n",
       "    <tr>\n",
       "      <th>997</th>\n",
       "      <td>switch_wins</td>\n",
       "      <td>1</td>\n",
       "      <td>665</td>\n",
       "      <td>66.633267</td>\n",
       "    </tr>\n",
       "    <tr>\n",
       "      <th>998</th>\n",
       "      <td>switch_wins</td>\n",
       "      <td>1</td>\n",
       "      <td>666</td>\n",
       "      <td>66.666667</td>\n",
       "    </tr>\n",
       "    <tr>\n",
       "      <th>999</th>\n",
       "      <td>switch_wins</td>\n",
       "      <td>1</td>\n",
       "      <td>667</td>\n",
       "      <td>66.700000</td>\n",
       "    </tr>\n",
       "  </tbody>\n",
       "</table>\n",
       "<p>1000 rows × 4 columns</p>\n",
       "</div>"
      ],
      "text/plain": [
       "             result  switch_wins  cum_sum    win_perc\n",
       "0       switch_wins            1        1  100.000000\n",
       "1       switch_wins            1        2  100.000000\n",
       "2    no_switch_wins            0        2   66.666667\n",
       "3    no_switch_wins            0        2   50.000000\n",
       "4    no_switch_wins            0        2   40.000000\n",
       "..              ...          ...      ...         ...\n",
       "995     switch_wins            1      663   66.566265\n",
       "996     switch_wins            1      664   66.599799\n",
       "997     switch_wins            1      665   66.633267\n",
       "998     switch_wins            1      666   66.666667\n",
       "999     switch_wins            1      667   66.700000\n",
       "\n",
       "[1000 rows x 4 columns]"
      ]
     },
     "execution_count": 9,
     "metadata": {},
     "output_type": "execute_result"
    }
   ],
   "source": [
    "# Add some new columns for easy explanation purposes\n",
    "def switch_wins_flag(row):\n",
    "    if row.result == 'switch_wins':\n",
    "        return 1\n",
    "    else:\n",
    "        return 0\n",
    "\n",
    "# add a flag column 'switch_wins' which equals 1 when switching a door wins the prize\n",
    "outcomes_df = outcomes_df.assign(switch_wins = outcomes_df.apply(switch_wins_flag, axis='columns'))\n",
    "\n",
    "# add a column 'cum_sum' which gives the cumulative sum of wins when a door is switched \n",
    "outcomes_df = outcomes_df.assign(cum_sum = outcomes_df.switch_wins.cumsum())\n",
    "\n",
    "#add a column 'win_perc' which gives the cumulative win percentage when a door is switched \n",
    "outcomes_df = outcomes_df.assign(win_perc = (outcomes_df.cum_sum*100)/(outcomes_df.index+1))\n",
    "outcomes_df"
   ]
  },
  {
   "cell_type": "code",
   "execution_count": 10,
   "metadata": {},
   "outputs": [],
   "source": [
    "# sns.set_style(\"whitegrid\")\n",
    "# plt.figure(figsize=(15,5))\n",
    "# plt.plot(outcomes_df.index+1, (outcomes_df.switch_wins.cumsum()/(outcomes_df.index+1)))"
   ]
  },
  {
   "cell_type": "code",
   "execution_count": 11,
   "metadata": {},
   "outputs": [
    {
     "data": {
      "text/plain": [
       "Text(0, 0.5, 'Win %')"
      ]
     },
     "execution_count": 11,
     "metadata": {},
     "output_type": "execute_result"
    },
    {
     "data": {
      "image/png": "[encoded data removed]",
      "text/plain": [
       "<Figure size 1080x504 with 1 Axes>"
      ]
     },
     "metadata": {
      "needs_background": "light"
     },
     "output_type": "display_data"
    }
   ],
   "source": [
    "# Set the width and height of the figure\n",
    "plt.figure(figsize=(15,7))\n",
    "\n",
    "sns.set_style(\"whitegrid\")\n",
    "plt.rcParams.update({'font.size': 20})\n",
    "sns.lineplot(data = outcomes_df[\"win_perc\"], label=\"Cumulative Win %\")\n",
    "plt.xlabel(\"No. of Simulations\")\n",
    "plt.ylabel(\"Win %\")"
   ]
  },
  {
   "cell_type": "code",
   "execution_count": null,
   "metadata": {},
   "outputs": [],
   "source": [
    "# From this experiment, it looks like if we switch, the odds of winning are about 66.7%.\n",
    "# This is better than the 50-50 odds.\n",
    "# why?\n",
    "# This is because the 'probability is locked' when the player chooses a door\n",
    "# (1/3 for car behind his door, and 2/3 for car behind the other 2 doors)\n",
    "# Why is it locked?\n",
    "# It is locked because the decision to open a door is made by the host, who knows which door has the prize and\n",
    "# will only ever open a door which doesn't have the prize.\n",
    "# so swithcing now means our odds of winning are 2/3, as the host eliminated 1 door for us."
   ]
  }
 ],
 "metadata": {
  "kernelspec": {
   "display_name": "Python 3",
   "language": "python",
   "name": "python3"
  },
  "language_info": {
   "codemirror_mode": {
    "name": "ipython",
    "version": 3
   },
   "file_extension": ".py",
   "mimetype": "text/x-python",
   "name": "python",
   "nbconvert_exporter": "python",
   "pygments_lexer": "ipython3",
   "version": "3.8.3"
  }
 },
 "nbformat": 4,
 "nbformat_minor": 4
}
